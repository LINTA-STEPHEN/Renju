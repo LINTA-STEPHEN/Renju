{
 "cells": [
  {
   "cell_type": "code",
   "execution_count": 1,
   "id": "57417e7a",
   "metadata": {},
   "outputs": [],
   "source": [
    "import numpy as np\n",
    "import pandas as pd"
   ]
  },
  {
   "cell_type": "code",
   "execution_count": 2,
   "id": "f2bbffd0",
   "metadata": {},
   "outputs": [
    {
     "data": {
      "text/html": [
       "<div>\n",
       "<style scoped>\n",
       "    .dataframe tbody tr th:only-of-type {\n",
       "        vertical-align: middle;\n",
       "    }\n",
       "\n",
       "    .dataframe tbody tr th {\n",
       "        vertical-align: top;\n",
       "    }\n",
       "\n",
       "    .dataframe thead th {\n",
       "        text-align: right;\n",
       "    }\n",
       "</style>\n",
       "<table border=\"1\" class=\"dataframe\">\n",
       "  <thead>\n",
       "    <tr style=\"text-align: right;\">\n",
       "      <th></th>\n",
       "      <th>Month</th>\n",
       "      <th>Mode</th>\n",
       "      <th>Point Bugs</th>\n",
       "      <th>Other Bugs</th>\n",
       "      <th>Month.1</th>\n",
       "      <th>Mode.1</th>\n",
       "      <th>WFO_Point Bugs</th>\n",
       "      <th>WFO_Other Bugs</th>\n",
       "    </tr>\n",
       "  </thead>\n",
       "  <tbody>\n",
       "    <tr>\n",
       "      <th>0</th>\n",
       "      <td>Mar</td>\n",
       "      <td>WFH</td>\n",
       "      <td>12</td>\n",
       "      <td>7</td>\n",
       "      <td>Dec</td>\n",
       "      <td>WFO</td>\n",
       "      <td>17</td>\n",
       "      <td>0</td>\n",
       "    </tr>\n",
       "    <tr>\n",
       "      <th>1</th>\n",
       "      <td>Mar</td>\n",
       "      <td>WFH</td>\n",
       "      <td>8</td>\n",
       "      <td>4</td>\n",
       "      <td>Dec</td>\n",
       "      <td>WFO</td>\n",
       "      <td>8</td>\n",
       "      <td>4</td>\n",
       "    </tr>\n",
       "    <tr>\n",
       "      <th>2</th>\n",
       "      <td>Mar</td>\n",
       "      <td>WFH</td>\n",
       "      <td>10</td>\n",
       "      <td>2</td>\n",
       "      <td>Dec</td>\n",
       "      <td>WFO</td>\n",
       "      <td>2</td>\n",
       "      <td>5</td>\n",
       "    </tr>\n",
       "    <tr>\n",
       "      <th>3</th>\n",
       "      <td>Mar</td>\n",
       "      <td>WFH</td>\n",
       "      <td>8</td>\n",
       "      <td>3</td>\n",
       "      <td>Dec</td>\n",
       "      <td>WFO</td>\n",
       "      <td>13</td>\n",
       "      <td>3</td>\n",
       "    </tr>\n",
       "    <tr>\n",
       "      <th>4</th>\n",
       "      <td>Apr</td>\n",
       "      <td>WFH</td>\n",
       "      <td>21</td>\n",
       "      <td>1</td>\n",
       "      <td>Jan</td>\n",
       "      <td>WFO</td>\n",
       "      <td>8</td>\n",
       "      <td>5</td>\n",
       "    </tr>\n",
       "  </tbody>\n",
       "</table>\n",
       "</div>"
      ],
      "text/plain": [
       "  Month Mode  Point Bugs  Other Bugs Month.1 Mode.1  WFO_Point Bugs  \\\n",
       "0   Mar  WFH          12           7     Dec    WFO              17   \n",
       "1   Mar  WFH           8           4     Dec    WFO               8   \n",
       "2   Mar  WFH          10           2     Dec    WFO               2   \n",
       "3   Mar  WFH           8           3     Dec    WFO              13   \n",
       "4   Apr  WFH          21           1     Jan    WFO               8   \n",
       "\n",
       "   WFO_Other Bugs  \n",
       "0               0  \n",
       "1               4  \n",
       "2               5  \n",
       "3               3  \n",
       "4               5  "
      ]
     },
     "execution_count": 2,
     "metadata": {},
     "output_type": "execute_result"
    }
   ],
   "source": [
    "data=pd.read_excel(r'C:\\Users\\Admin\\Downloads\\Redmine.xlsx')\n",
    "data.head()"
   ]
  },
  {
   "cell_type": "markdown",
   "id": "e203c9ce",
   "metadata": {},
   "source": [
    "Called the dataset into the python environment."
   ]
  },
  {
   "cell_type": "code",
   "execution_count": 3,
   "id": "43a3c711",
   "metadata": {},
   "outputs": [
    {
     "data": {
      "text/plain": [
       "(14, 8)"
      ]
     },
     "execution_count": 3,
     "metadata": {},
     "output_type": "execute_result"
    }
   ],
   "source": [
    "data.shape"
   ]
  },
  {
   "cell_type": "markdown",
   "id": "10ca27c3",
   "metadata": {},
   "source": [
    "The given dataset contain 14 rows and 8 columns"
   ]
  },
  {
   "cell_type": "code",
   "execution_count": 4,
   "id": "566f50f7",
   "metadata": {},
   "outputs": [
    {
     "name": "stdout",
     "output_type": "stream",
     "text": [
      "<class 'pandas.core.frame.DataFrame'>\n",
      "RangeIndex: 14 entries, 0 to 13\n",
      "Data columns (total 8 columns):\n",
      " #   Column          Non-Null Count  Dtype \n",
      "---  ------          --------------  ----- \n",
      " 0   Month           14 non-null     object\n",
      " 1   Mode            14 non-null     object\n",
      " 2   Point Bugs      14 non-null     int64 \n",
      " 3   Other Bugs      14 non-null     int64 \n",
      " 4   Month.1         14 non-null     object\n",
      " 5   Mode.1          14 non-null     object\n",
      " 6   WFO_Point Bugs  14 non-null     int64 \n",
      " 7   WFO_Other Bugs  14 non-null     int64 \n",
      "dtypes: int64(4), object(4)\n",
      "memory usage: 1.0+ KB\n"
     ]
    }
   ],
   "source": [
    "data.info()"
   ]
  },
  {
   "cell_type": "markdown",
   "id": "c3adfd90",
   "metadata": {},
   "source": [
    "There are 14 entries 8 columns and the data type are object and integer."
   ]
  },
  {
   "cell_type": "code",
   "execution_count": 6,
   "id": "a773a8e7",
   "metadata": {},
   "outputs": [
    {
     "data": {
      "text/plain": [
       "Month             0\n",
       "Mode              0\n",
       "Point Bugs        0\n",
       "Other Bugs        0\n",
       "Month.1           0\n",
       "Mode.1            0\n",
       "WFO_Point Bugs    0\n",
       "WFO_Other Bugs    0\n",
       "dtype: int64"
      ]
     },
     "execution_count": 6,
     "metadata": {},
     "output_type": "execute_result"
    }
   ],
   "source": [
    "data.isna().sum()"
   ]
  },
  {
   "cell_type": "markdown",
   "id": "e8837d2a",
   "metadata": {},
   "source": [
    "There is no null values present in the dataset."
   ]
  },
  {
   "cell_type": "code",
   "execution_count": 7,
   "id": "d7c14f9c",
   "metadata": {},
   "outputs": [
    {
     "data": {
      "text/plain": [
       "Month             object\n",
       "Mode              object\n",
       "Point Bugs         int64\n",
       "Other Bugs         int64\n",
       "Month.1           object\n",
       "Mode.1            object\n",
       "WFO_Point Bugs     int64\n",
       "WFO_Other Bugs     int64\n",
       "dtype: object"
      ]
     },
     "execution_count": 7,
     "metadata": {},
     "output_type": "execute_result"
    }
   ],
   "source": [
    "data.dtypes"
   ]
  },
  {
   "cell_type": "markdown",
   "id": "c7d0f44f",
   "metadata": {},
   "source": [
    "The data types are object and integer."
   ]
  },
  {
   "cell_type": "code",
   "execution_count": 9,
   "id": "bdb0f1df",
   "metadata": {},
   "outputs": [],
   "source": [
    "import matplotlib.pyplot as plt"
   ]
  },
  {
   "cell_type": "code",
   "execution_count": 10,
   "id": "fcd47ee1",
   "metadata": {},
   "outputs": [
    {
     "data": {
      "image/png": "[encoded data removed]",
      "text/plain": [
       "<Figure size 1440x1080 with 4 Axes>"
      ]
     },
     "metadata": {
      "needs_background": "light"
     },
     "output_type": "display_data"
    }
   ],
   "source": [
    "freqgraph=data.select_dtypes(include=['int'])\n",
    "freqgraph.hist(figsize=(20,15))\n",
    "plt.show()"
   ]
  },
  {
   "cell_type": "markdown",
   "id": "b4938731",
   "metadata": {},
   "source": [
    "Ploted the graph of point bugs and other bugs during the work from home and work from office."
   ]
  },
  {
   "cell_type": "code",
   "execution_count": 11,
   "id": "2d649438",
   "metadata": {},
   "outputs": [
    {
     "data": {
      "text/plain": [
       "Index(['Month', 'Mode', 'Point Bugs', 'Other Bugs', 'Month.1', 'Mode.1',\n",
       "       'WFO_Point Bugs', 'WFO_Other Bugs'],\n",
       "      dtype='object')"
      ]
     },
     "execution_count": 11,
     "metadata": {},
     "output_type": "execute_result"
    }
   ],
   "source": [
    "data.columns"
   ]
  },
  {
   "cell_type": "markdown",
   "id": "8b42aeba",
   "metadata": {},
   "source": [
    "8 columns are prsent in the dataset namely 'Month', 'Mode', 'Point Bugs', 'Other Bugs', 'Month.1', 'Mode.1',\n",
    "       'WFO_Point Bugs', 'WFO_Other Bugs'."
   ]
  },
  {
   "cell_type": "code",
   "execution_count": 12,
   "id": "b41eab66",
   "metadata": {},
   "outputs": [
    {
     "data": {
      "text/html": [
       "<div>\n",
       "<style scoped>\n",
       "    .dataframe tbody tr th:only-of-type {\n",
       "        vertical-align: middle;\n",
       "    }\n",
       "\n",
       "    .dataframe tbody tr th {\n",
       "        vertical-align: top;\n",
       "    }\n",
       "\n",
       "    .dataframe thead th {\n",
       "        text-align: right;\n",
       "    }\n",
       "</style>\n",
       "<table border=\"1\" class=\"dataframe\">\n",
       "  <thead>\n",
       "    <tr style=\"text-align: right;\">\n",
       "      <th></th>\n",
       "      <th>Point Bugs</th>\n",
       "      <th>Other Bugs</th>\n",
       "      <th>WFO_Point Bugs</th>\n",
       "      <th>WFO_Other Bugs</th>\n",
       "    </tr>\n",
       "  </thead>\n",
       "  <tbody>\n",
       "    <tr>\n",
       "      <th>count</th>\n",
       "      <td>14.000000</td>\n",
       "      <td>14.000000</td>\n",
       "      <td>14.00000</td>\n",
       "      <td>14.000000</td>\n",
       "    </tr>\n",
       "    <tr>\n",
       "      <th>mean</th>\n",
       "      <td>10.357143</td>\n",
       "      <td>3.357143</td>\n",
       "      <td>10.00000</td>\n",
       "      <td>3.285714</td>\n",
       "    </tr>\n",
       "    <tr>\n",
       "      <th>std</th>\n",
       "      <td>4.235512</td>\n",
       "      <td>3.128213</td>\n",
       "      <td>4.62435</td>\n",
       "      <td>1.589803</td>\n",
       "    </tr>\n",
       "    <tr>\n",
       "      <th>min</th>\n",
       "      <td>3.000000</td>\n",
       "      <td>0.000000</td>\n",
       "      <td>1.00000</td>\n",
       "      <td>0.000000</td>\n",
       "    </tr>\n",
       "    <tr>\n",
       "      <th>25%</th>\n",
       "      <td>8.250000</td>\n",
       "      <td>2.000000</td>\n",
       "      <td>8.25000</td>\n",
       "      <td>2.000000</td>\n",
       "    </tr>\n",
       "    <tr>\n",
       "      <th>50%</th>\n",
       "      <td>10.000000</td>\n",
       "      <td>2.000000</td>\n",
       "      <td>10.00000</td>\n",
       "      <td>3.000000</td>\n",
       "    </tr>\n",
       "    <tr>\n",
       "      <th>75%</th>\n",
       "      <td>12.000000</td>\n",
       "      <td>3.750000</td>\n",
       "      <td>12.75000</td>\n",
       "      <td>5.000000</td>\n",
       "    </tr>\n",
       "    <tr>\n",
       "      <th>max</th>\n",
       "      <td>21.000000</td>\n",
       "      <td>12.000000</td>\n",
       "      <td>17.00000</td>\n",
       "      <td>5.000000</td>\n",
       "    </tr>\n",
       "  </tbody>\n",
       "</table>\n",
       "</div>"
      ],
      "text/plain": [
       "       Point Bugs  Other Bugs  WFO_Point Bugs  WFO_Other Bugs\n",
       "count   14.000000   14.000000        14.00000       14.000000\n",
       "mean    10.357143    3.357143        10.00000        3.285714\n",
       "std      4.235512    3.128213         4.62435        1.589803\n",
       "min      3.000000    0.000000         1.00000        0.000000\n",
       "25%      8.250000    2.000000         8.25000        2.000000\n",
       "50%     10.000000    2.000000        10.00000        3.000000\n",
       "75%     12.000000    3.750000        12.75000        5.000000\n",
       "max     21.000000   12.000000        17.00000        5.000000"
      ]
     },
     "execution_count": 12,
     "metadata": {},
     "output_type": "execute_result"
    }
   ],
   "source": [
    "data.describe()"
   ]
  },
  {
   "cell_type": "code",
   "execution_count": null,
   "id": "db6f2273",
   "metadata": {},
   "outputs": [],
   "source": [
    "From this we can identify the mean , standard deviation,minimum and maximum values and quartiles values."
   ]
  },
  {
   "cell_type": "code",
   "execution_count": 13,
   "id": "ce52580f",
   "metadata": {},
   "outputs": [],
   "source": [
    "import seaborn as sns"
   ]
  },
  {
   "cell_type": "code",
   "execution_count": 14,
   "id": "cd9131c3",
   "metadata": {},
   "outputs": [
    {
     "data": {
      "text/plain": [
       "Text(0.5, 1.0, 'Box plot of point bugs in WFH')"
      ]
     },
     "execution_count": 14,
     "metadata": {},
     "output_type": "execute_result"
    },
    {
     "data": {
      "image/png": "[encoded data removed]",
      "text/plain": [
       "<Figure size 432x288 with 1 Axes>"
      ]
     },
     "metadata": {
      "needs_background": "light"
     },
     "output_type": "display_data"
    }
   ],
   "source": [
    "plt.boxplot(data['Point Bugs'])\n",
    "plt.title(\"Box plot of point bugs in WFH\")"
   ]
  },
  {
   "cell_type": "code",
   "execution_count": 15,
   "id": "ed3d8472",
   "metadata": {},
   "outputs": [
    {
     "data": {
      "text/plain": [
       "Text(0.5, 1.0, 'Box plot of other bugs in WFH')"
      ]
     },
     "execution_count": 15,
     "metadata": {},
     "output_type": "execute_result"
    },
    {
     "data": {
      "image/png": "[encoded data removed]",
      "text/plain": [
       "<Figure size 432x288 with 1 Axes>"
      ]
     },
     "metadata": {
      "needs_background": "light"
     },
     "output_type": "display_data"
    }
   ],
   "source": [
    "plt.boxplot(data['Other Bugs'])\n",
    "plt.title(\"Box plot of other bugs in WFH\")"
   ]
  },
  {
   "cell_type": "code",
   "execution_count": 16,
   "id": "778aef76",
   "metadata": {},
   "outputs": [
    {
     "data": {
      "text/plain": [
       "Text(0.5, 1.0, 'Box plot of point bugs in WFO')"
      ]
     },
     "execution_count": 16,
     "metadata": {},
     "output_type": "execute_result"
    },
    {
     "data": {
      "image/png": "[encoded data removed]",
      "text/plain": [
       "<Figure size 432x288 with 1 Axes>"
      ]
     },
     "metadata": {
      "needs_background": "light"
     },
     "output_type": "display_data"
    }
   ],
   "source": [
    "plt.boxplot(data['WFO_Point Bugs'])\n",
    "plt.title(\"Box plot of point bugs in WFO\")"
   ]
  },
  {
   "cell_type": "code",
   "execution_count": 17,
   "id": "f6b5c6d7",
   "metadata": {},
   "outputs": [
    {
     "data": {
      "text/plain": [
       "Text(0.5, 1.0, 'Box plot of other bugs in WFO')"
      ]
     },
     "execution_count": 17,
     "metadata": {},
     "output_type": "execute_result"
    },
    {
     "data": {
      "image/png": "[encoded data removed]",
      "text/plain": [
       "<Figure size 432x288 with 1 Axes>"
      ]
     },
     "metadata": {
      "needs_background": "light"
     },
     "output_type": "display_data"
    }
   ],
   "source": [
    "plt.boxplot(data['WFO_Other Bugs'])\n",
    "plt.title(\"Box plot of other bugs in WFO\")"
   ]
  },
  {
   "cell_type": "markdown",
   "id": "749a7321",
   "metadata": {},
   "source": [
    "Drawm the box plot to check whether there is any outliers present.The outliers are present in other bugs during WFH and point bugs during WFO.So we need to find Quartiles."
   ]
  },
  {
   "cell_type": "code",
   "execution_count": 18,
   "id": "3573a4d5",
   "metadata": {},
   "outputs": [],
   "source": [
    "Q1=np.percentile(data['Other Bugs'],25,interpolation='midpoint')\n",
    "Q2=np.percentile(data['Other Bugs'],50,interpolation='midpoint')\n",
    "Q3=np.percentile(data['Other Bugs'],75,interpolation='midpoint')"
   ]
  },
  {
   "cell_type": "code",
   "execution_count": 19,
   "id": "41fbfb9e",
   "metadata": {},
   "outputs": [
    {
     "name": "stdout",
     "output_type": "stream",
     "text": [
      "2.0\n",
      "2.0\n",
      "3.5\n"
     ]
    }
   ],
   "source": [
    "print(Q1)\n",
    "print(Q2)\n",
    "print(Q3)"
   ]
  },
  {
   "cell_type": "code",
   "execution_count": 20,
   "id": "187e3de4",
   "metadata": {},
   "outputs": [
    {
     "data": {
      "text/plain": [
       "2.0"
      ]
     },
     "execution_count": 20,
     "metadata": {},
     "output_type": "execute_result"
    }
   ],
   "source": [
    "data['Other Bugs'].median()"
   ]
  },
  {
   "cell_type": "code",
   "execution_count": 22,
   "id": "f3fd055e",
   "metadata": {},
   "outputs": [
    {
     "data": {
      "text/plain": [
       "1.5"
      ]
     },
     "execution_count": 22,
     "metadata": {},
     "output_type": "execute_result"
    }
   ],
   "source": [
    "IQR=Q3-Q1\n",
    "IQR"
   ]
  },
  {
   "cell_type": "markdown",
   "id": "ca8a4aaf",
   "metadata": {},
   "source": [
    "This is the inter quartile range."
   ]
  },
  {
   "cell_type": "code",
   "execution_count": 23,
   "id": "a946cd0e",
   "metadata": {},
   "outputs": [
    {
     "name": "stdout",
     "output_type": "stream",
     "text": [
      "-0.25\n",
      "5.75\n"
     ]
    }
   ],
   "source": [
    "low_lim=Q1-1.5*IQR\n",
    "upp_lim=Q3+1.5*IQR\n",
    "print(low_lim)\n",
    "print(upp_lim)"
   ]
  },
  {
   "cell_type": "markdown",
   "id": "0d361ecf",
   "metadata": {},
   "source": [
    "Find out the upper limit and lower limit."
   ]
  },
  {
   "cell_type": "code",
   "execution_count": 27,
   "id": "5c172961",
   "metadata": {},
   "outputs": [],
   "source": [
    "outlier=[]\n",
    "for x in data['Other Bugs']:\n",
    "    if ((x>upp_lim)or(x<low_lim)):\n",
    "      outlier.append(x)        "
   ]
  },
  {
   "cell_type": "code",
   "execution_count": 28,
   "id": "0c93ddd6",
   "metadata": {},
   "outputs": [
    {
     "data": {
      "text/plain": [
       "[7, 12, 6]"
      ]
     },
     "execution_count": 28,
     "metadata": {},
     "output_type": "execute_result"
    }
   ],
   "source": [
    "outlier"
   ]
  },
  {
   "cell_type": "markdown",
   "id": "04953e3d",
   "metadata": {},
   "source": [
    "Find out which are the outlies present."
   ]
  },
  {
   "cell_type": "code",
   "execution_count": 29,
   "id": "dab87b0d",
   "metadata": {},
   "outputs": [
    {
     "data": {
      "text/plain": [
       "Int64Index([0, 5, 7], dtype='int64')"
      ]
     },
     "execution_count": 29,
     "metadata": {},
     "output_type": "execute_result"
    }
   ],
   "source": [
    "ind1=data['Other Bugs']>upp_lim\n",
    "data.loc[ind1].index"
   ]
  },
  {
   "cell_type": "code",
   "execution_count": null,
   "id": "9a958452",
   "metadata": {},
   "outputs": [],
   "source": [
    "Identified the index value of outliers."
   ]
  },
  {
   "cell_type": "code",
   "execution_count": 30,
   "id": "c2cda419",
   "metadata": {},
   "outputs": [],
   "source": [
    "data.drop([0, 5, 7],inplace=True)"
   ]
  },
  {
   "cell_type": "code",
   "execution_count": null,
   "id": "3bb99f1c",
   "metadata": {},
   "outputs": [],
   "source": [
    "Droped the outliers."
   ]
  },
  {
   "cell_type": "code",
   "execution_count": 31,
   "id": "cd351a5d",
   "metadata": {},
   "outputs": [
    {
     "data": {
      "text/plain": [
       "Text(0.5, 1.0, 'Box plot of other bugs in WFH')"
      ]
     },
     "execution_count": 31,
     "metadata": {},
     "output_type": "execute_result"
    },
    {
     "data": {
      "image/png": "[encoded data removed]",
      "text/plain": [
       "<Figure size 432x288 with 1 Axes>"
      ]
     },
     "metadata": {
      "needs_background": "light"
     },
     "output_type": "display_data"
    }
   ],
   "source": [
    "plt.boxplot(data['Other Bugs'])\n",
    "plt.title('Box plot of other bugs in WFH')"
   ]
  },
  {
   "cell_type": "markdown",
   "id": "16f46c69",
   "metadata": {},
   "source": [
    "Again plot the box plot. Now there is no outliers."
   ]
  },
  {
   "cell_type": "code",
   "execution_count": 32,
   "id": "df349fc7",
   "metadata": {},
   "outputs": [],
   "source": [
    "#The entier process is repeated for point bugs during WFO\n",
    "Q1=np.percentile(data['WFO_Point Bugs'],25,interpolation='midpoint')\n",
    "Q2=np.percentile(data['WFO_Point Bugs'],50,interpolation='midpoint')\n",
    "Q3=np.percentile(data['WFO_Point Bugs'],75,interpolation='midpoint')"
   ]
  },
  {
   "cell_type": "code",
   "execution_count": 33,
   "id": "13303a06",
   "metadata": {},
   "outputs": [
    {
     "name": "stdout",
     "output_type": "stream",
     "text": [
      "8.0\n",
      "9.0\n",
      "11.5\n"
     ]
    }
   ],
   "source": [
    "print(Q1)\n",
    "print(Q2)\n",
    "print(Q3)"
   ]
  },
  {
   "cell_type": "code",
   "execution_count": 34,
   "id": "52955d79",
   "metadata": {},
   "outputs": [
    {
     "data": {
      "text/plain": [
       "9.0"
      ]
     },
     "execution_count": 34,
     "metadata": {},
     "output_type": "execute_result"
    }
   ],
   "source": [
    "data['WFO_Point Bugs'].median()"
   ]
  },
  {
   "cell_type": "code",
   "execution_count": 35,
   "id": "520861ec",
   "metadata": {},
   "outputs": [
    {
     "data": {
      "text/plain": [
       "3.5"
      ]
     },
     "execution_count": 35,
     "metadata": {},
     "output_type": "execute_result"
    }
   ],
   "source": [
    "IQR=Q3-Q1\n",
    "IQR"
   ]
  },
  {
   "cell_type": "code",
   "execution_count": 36,
   "id": "10976146",
   "metadata": {},
   "outputs": [
    {
     "name": "stdout",
     "output_type": "stream",
     "text": [
      "2.75\n",
      "16.75\n"
     ]
    }
   ],
   "source": [
    "low_lim=Q1-1.5*IQR\n",
    "upp_lim=Q3+1.5*IQR\n",
    "print(low_lim)\n",
    "print(upp_lim)"
   ]
  },
  {
   "cell_type": "code",
   "execution_count": 37,
   "id": "cb339b0e",
   "metadata": {},
   "outputs": [],
   "source": [
    "outlier=[]\n",
    "for x in data['WFO_Point Bugs']:\n",
    "    if ((x>upp_lim)or(x<low_lim)):\n",
    "      outlier.append(x)  "
   ]
  },
  {
   "cell_type": "code",
   "execution_count": 38,
   "id": "bcb26c5c",
   "metadata": {},
   "outputs": [
    {
     "data": {
      "text/plain": [
       "[2, 1, 17]"
      ]
     },
     "execution_count": 38,
     "metadata": {},
     "output_type": "execute_result"
    }
   ],
   "source": [
    "outlier"
   ]
  },
  {
   "cell_type": "code",
   "execution_count": 39,
   "id": "c54c1729",
   "metadata": {},
   "outputs": [
    {
     "data": {
      "text/plain": [
       "Int64Index([12], dtype='int64')"
      ]
     },
     "execution_count": 39,
     "metadata": {},
     "output_type": "execute_result"
    }
   ],
   "source": [
    "ind1=data['WFO_Point Bugs']>upp_lim\n",
    "data.loc[ind1].index"
   ]
  },
  {
   "cell_type": "code",
   "execution_count": 40,
   "id": "72ab82f3",
   "metadata": {},
   "outputs": [],
   "source": [
    "data.drop([12],inplace=True)"
   ]
  },
  {
   "cell_type": "code",
   "execution_count": 41,
   "id": "77c0cf5e",
   "metadata": {},
   "outputs": [
    {
     "data": {
      "text/plain": [
       "Text(0.5, 1.0, 'Box plot of point bugs in WFO')"
      ]
     },
     "execution_count": 41,
     "metadata": {},
     "output_type": "execute_result"
    },
    {
     "data": {
      "image/png": "[encoded data removed]",
      "text/plain": [
       "<Figure size 432x288 with 1 Axes>"
      ]
     },
     "metadata": {
      "needs_background": "light"
     },
     "output_type": "display_data"
    }
   ],
   "source": [
    "plt.boxplot(data['WFO_Point Bugs'])\n",
    "plt.title('Box plot of point bugs in WFO')"
   ]
  },
  {
   "cell_type": "markdown",
   "id": "a450eedd",
   "metadata": {},
   "source": [
    "checking whether there is any difference in point bugs when developers WFH & WFO.Here the sample size is less than 30 so we use t test."
   ]
  },
  {
   "cell_type": "markdown",
   "id": "73add4d5",
   "metadata": {},
   "source": [
    "the null and alternative hypothesis are:"
   ]
  },
  {
   "cell_type": "markdown",
   "id": "95eec606",
   "metadata": {},
   "source": [
    "H0:the point bugs are same when developers work from home and from office. "
   ]
  },
  {
   "cell_type": "markdown",
   "id": "2f9ce6ff",
   "metadata": {},
   "source": [
    "H1:the point bugs are different when developers work from home and from office."
   ]
  },
  {
   "cell_type": "code",
   "execution_count": 42,
   "id": "850e4266",
   "metadata": {},
   "outputs": [
    {
     "data": {
      "text/plain": [
       "1      8\n",
       "2     10\n",
       "3      8\n",
       "4     21\n",
       "6     12\n",
       "8     13\n",
       "9     12\n",
       "10     9\n",
       "11    10\n",
       "13     9\n",
       "Name: Point Bugs, dtype: int64"
      ]
     },
     "execution_count": 42,
     "metadata": {},
     "output_type": "execute_result"
    }
   ],
   "source": [
    "x1=data[data['Mode']=='WFH']['Point Bugs']\n",
    "x1"
   ]
  },
  {
   "cell_type": "code",
   "execution_count": 46,
   "id": "f0beceb4",
   "metadata": {},
   "outputs": [
    {
     "data": {
      "text/plain": [
       "1      8\n",
       "2      2\n",
       "3     13\n",
       "4      8\n",
       "6      9\n",
       "8      9\n",
       "9     11\n",
       "10     1\n",
       "11    12\n",
       "13     9\n",
       "Name: WFO_Point Bugs, dtype: int64"
      ]
     },
     "execution_count": 46,
     "metadata": {},
     "output_type": "execute_result"
    }
   ],
   "source": [
    "x2=data[data['Mode.1']=='WFO']['WFO_Point Bugs']\n",
    "x2"
   ]
  },
  {
   "cell_type": "code",
   "execution_count": 47,
   "id": "13a9565d",
   "metadata": {},
   "outputs": [],
   "source": [
    "alpha=0.05"
   ]
  },
  {
   "cell_type": "code",
   "execution_count": 48,
   "id": "467d62ce",
   "metadata": {},
   "outputs": [],
   "source": [
    "from scipy import stats"
   ]
  },
  {
   "cell_type": "code",
   "execution_count": 51,
   "id": "309a13ae",
   "metadata": {},
   "outputs": [
    {
     "name": "stdout",
     "output_type": "stream",
     "text": [
      "p value is  0.10106566633934844\n",
      "Fail to reject Null Hypothesis\n"
     ]
    }
   ],
   "source": [
    "t_value,p_value=stats.ttest_ind(x1,x2)\n",
    "print(\"p value is \",p_value)\n",
    "if p_value<alpha:\n",
    "    print(\"Reject Null Hypothesis\")\n",
    "else:\n",
    "        print(\"Fail to reject Null Hypothesis\")\n"
   ]
  },
  {
   "cell_type": "markdown",
   "id": "7553587a",
   "metadata": {},
   "source": [
    "Here we fail to reject the null hypothesis.Therefore the point bugs are same when the deveolpers work from home and office."
   ]
  }
 ],
 "metadata": {
  "kernelspec": {
   "display_name": "Python 3 (ipykernel)",
   "language": "python",
   "name": "python3"
  },
  "language_info": {
   "codemirror_mode": {
    "name": "ipython",
    "version": 3
   },
   "file_extension": ".py",
   "mimetype": "text/x-python",
   "name": "python",
   "nbconvert_exporter": "python",
   "pygments_lexer": "ipython3",
   "version": "3.9.12"
  }
 },
 "nbformat": 4,
 "nbformat_minor": 5
}
